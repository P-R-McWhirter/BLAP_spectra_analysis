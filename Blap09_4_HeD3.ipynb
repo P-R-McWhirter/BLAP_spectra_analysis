{
 "cells": [
  {
   "cell_type": "code",
   "execution_count": 1,
   "metadata": {
    "scrolled": false
   },
   "outputs": [],
   "source": [
    "# Import what we need for the script.\n",
    "\n",
    "import numpy as np\n",
    "from matplotlib import pyplot as plt\n",
    "%matplotlib inline\n",
    "from EqW import *\n",
    "from tqdm import tqdm_notebook as tqdm"
   ]
  },
  {
   "cell_type": "code",
   "execution_count": 2,
   "metadata": {
    "scrolled": false
   },
   "outputs": [],
   "source": [
    "# Create a function which generates a gaussian.\n",
    "\n",
    "def gaussian(x, mu, sig, pwr):\n",
    "    return pwr * (np.exp(-np.power(x - mu, 2.) / (2 * np.power(sig, 2.))))"
   ]
  },
  {
   "cell_type": "code",
   "execution_count": 3,
   "metadata": {
    "scrolled": false
   },
   "outputs": [],
   "source": [
    "# Define a continuum fit function.\n",
    "\n",
    "def region_around_line(w, flux, cont, pf = 0):\n",
    "    '''cut out and normalize flux around a line\n",
    "\n",
    "    Parameters\n",
    "    ----------\n",
    "    w : 1 dim np.ndarray\n",
    "        array of wanvelenghts\n",
    "    flux : np.ndarray of shape (N, len(w))\n",
    "        array of flux values for different spectra in the series\n",
    "    cont : list of lists\n",
    "        wavelengths for continuum normalization [[low1,up1],[low2, up2]]\n",
    "        that described two areas on both sides of the line\n",
    "    '''\n",
    "    #index is true in the region where we fit the polynomial\n",
    "    indcont = ((w > cont[0][0]) & (w < cont[0][1])) |((w > cont[1][0]) & (w < cont[1][1]))\n",
    "    #index of the region we want to return\n",
    "    indrange = (w > cont[0][0]) & (w < cont[1][1])\n",
    "    fluxmean = np.mean(flux[:,np.where(indcont)])\n",
    "    # make a flux array of shape\n",
    "    # (nuber of spectra, number of pointsin indrange)\n",
    "    f = np.zeros((flux.shape[0], indrange.sum()))\n",
    "    for i in range(flux.shape[0]):\n",
    "        # fit polynom of second order to the continuum region\n",
    "        linecoeff = np.polyfit(w[indcont], flux[i, indcont], pf)\n",
    "        # devide the flux by the polynom and put the result in our\n",
    "        # new flux array\n",
    "        f[i,:] = flux[i,indrange]/np.polyval(linecoeff, w[indrange])\n",
    "    if fluxmean < 0:\n",
    "        f = -f\n",
    "    return w[indrange], f"
   ]
  },
  {
   "cell_type": "code",
   "execution_count": 4,
   "metadata": {
    "scrolled": false
   },
   "outputs": [],
   "source": [
    "# Define error functions for the optimisation of the gaussian fit. Penalise fits far from the Ha line using regularisation (check if this is appropriate).\n",
    "\n",
    "def error(data, flux, wavelength):\n",
    "    mu, sig, pwr = data\n",
    "    if sig < 1.8 or sig > 25:\n",
    "        return np.inf\n",
    "    fit = gaussian(wavelength, mu, sig, pwr)\n",
    "    return np.sum(np.power(flux - fit, 2.)) + 0.01 * np.power(mu - 5876, 2.)\n",
    "\n",
    "def error2(data, flux, wavelength):\n",
    "    mu, sig, pwr = data\n",
    "    if sig < 1.8 or sig > 25:\n",
    "        return np.inf\n",
    "    fit = gaussian(wavelength, mu, sig, pwr)\n",
    "    return np.power(flux - fit, 2.)"
   ]
  },
  {
   "cell_type": "code",
   "execution_count": 5,
   "metadata": {
    "scrolled": false
   },
   "outputs": [],
   "source": [
    "# Import the scipy.optimize.minimize function\n",
    "\n",
    "from scipy.optimize import minimize"
   ]
  },
  {
   "cell_type": "code",
   "execution_count": 6,
   "metadata": {
    "scrolled": false
   },
   "outputs": [],
   "source": [
    "# Import SpectRes package to rebin the gaussian into the spectrum wavelength bins whilst conserving flux.\n",
    "\n",
    "from spectres import spectres"
   ]
  },
  {
   "cell_type": "code",
   "execution_count": 7,
   "metadata": {
    "scrolled": false
   },
   "outputs": [],
   "source": [
    "# Define a new error function using SpectRes for the optimisation.\n",
    "\n",
    "def reerr(data, w, f, gauw):\n",
    "    mu, sig, pwr = data\n",
    "    if sig < 1.8 or sig > 25:\n",
    "        return np.inf\n",
    "    res_fluxes = spectres(w, gauw, gaussian(gauw, mu, sig, pwr))\n",
    "    return np.sum(np.power(f - res_fluxes, 2.)) + 0.1 * np.power(mu - 5876, 2.)"
   ]
  },
  {
   "cell_type": "code",
   "execution_count": 8,
   "metadata": {
    "scrolled": false
   },
   "outputs": [],
   "source": [
    "def halinefit(file, rang, quiet = False, cfit = 0):\n",
    "    \n",
    "    flux = np.load(file)\n",
    "    wavelength = np.load('wavelength.npy')\n",
    "    \n",
    "    wha, fha = region_around_line(wavelength, np.reshape(flux, (1, np.size(flux))), rang, pf = cfit)\n",
    "    fha = np.reshape(fha, np.size(wha))\n",
    "    \n",
    "    if not quiet:\n",
    "        plt.plot(wavelength, flux)\n",
    "        plt.xlim((rang[0][0]-10,rang[1][1]+10))\n",
    "        plt.ylim((-0.4e-17,0.2e-17))\n",
    "        plt.show()\n",
    "    \n",
    "    x0 = np.array((5876, 10, -5))\n",
    "    gauw = np.linspace(rang[0][0]-10, rang[1][1]+10, 1000)\n",
    "    res = minimize(reerr, x0, args=(wha, fha, gauw), method='Nelder-Mead', tol=1e-6)\n",
    "    \n",
    "    if not quiet:\n",
    "        plt.plot(wha, fha)\n",
    "        plt.plot(gauw, gaussian(gauw, res.x[0], res.x[1], res.x[2]))\n",
    "    \n",
    "    res_spec = spectres(wha, gauw, gaussian(gauw, res.x[0], res.x[1], res.x[2]))\n",
    "    \n",
    "    if not quiet:\n",
    "        plt.show()\n",
    "    \n",
    "    cont = fha - res_spec\n",
    "    \n",
    "    if not quiet:\n",
    "        plt.plot(wha, cont)\n",
    "        plt.show()\n",
    "    \n",
    "    ew = (np.sum(gaussian(gauw, res.x[0], res.x[1], res.x[2]))/res.x[2])*(gauw[1]-gauw[0])\n",
    "    \n",
    "    snr = np.abs(res.x[2]) / np.std(cont)\n",
    "    \n",
    "    if not quiet:\n",
    "        print(res.x)\n",
    "    \n",
    "        print(np.std(cont))\n",
    "    \n",
    "        print(snr)\n",
    "        \n",
    "    quans = np.quantile(cont, [0.05, 0.95])\n",
    "    \n",
    "    return ew, snr, quans[0], quans[1], res.x[0]\n",
    "    "
   ]
  },
  {
   "cell_type": "code",
   "execution_count": 9,
   "metadata": {
    "scrolled": false
   },
   "outputs": [
    {
     "data": {
      "application/vnd.jupyter.widget-view+json": {
       "model_id": "85df3ee8e9954337a0d4ebff7139d370",
       "version_major": 2,
       "version_minor": 0
      },
      "text/plain": [
       "HBox(children=(IntProgress(value=0, max=1000), HTML(value='')))"
      ]
     },
     "metadata": {},
     "output_type": "display_data"
    },
    {
     "name": "stdout",
     "output_type": "stream",
     "text": [
      "\n"
     ]
    }
   ],
   "source": [
    "np.random.seed(10)\n",
    "\n",
    "ews = np.zeros(1000)\n",
    "snrs = np.zeros(1000)\n",
    "conts_low = np.zeros(1000)\n",
    "conts_high = np.zeros(1000)\n",
    "wls = np.zeros(1000)\n",
    "\n",
    "for i in tqdm(range(1000)):\n",
    "    a1 = 0\n",
    "    a2 = 0\n",
    "    while np.abs(a2 - a1) < 20:\n",
    "        a1 = np.random.uniform(low = 5200, high = 5840)\n",
    "        a2 = np.random.uniform(low = 5200, high = 5840)\n",
    "        if a2 < a1:\n",
    "            h = a1\n",
    "            a1 = a2\n",
    "            a2 = h\n",
    "      \n",
    "    b1 = 0\n",
    "    b2 = 0\n",
    "    while np.abs(b2 - b1) < 20:\n",
    "        b1 = np.random.uniform(low = 5900, high = 6500)\n",
    "        b2 = np.random.uniform(low = 5900, high = 6500)\n",
    "        if b2 < b1:\n",
    "            h = b1\n",
    "            b1 = b2\n",
    "            b2 = h\n",
    "        \n",
    "    rang = [[a1, a2],[b1, b2]]\n",
    "    ews[i], snrs[i], conts_low[i], conts_high[i], wls[i] = halinefit('blap09_group4_mean_subtracted.npy', rang, quiet = True)"
   ]
  },
  {
   "cell_type": "code",
   "execution_count": 10,
   "metadata": {},
   "outputs": [
    {
     "data": {
      "text/plain": [
       "array([ 5.51114773, 58.07870805, 58.17336288])"
      ]
     },
     "execution_count": 10,
     "metadata": {},
     "output_type": "execute_result"
    }
   ],
   "source": [
    "quans_ews = np.quantile(ews, [0.05, 0.5, 0.95])\n",
    "quans_ews"
   ]
  },
  {
   "cell_type": "code",
   "execution_count": 11,
   "metadata": {},
   "outputs": [
    {
     "data": {
      "text/plain": [
       "17.659515653038984"
      ]
     },
     "execution_count": 11,
     "metadata": {},
     "output_type": "execute_result"
    }
   ],
   "source": [
    "np.std(ews[(ews > quans_ews[0]) & (ews < quans_ews[2])])"
   ]
  },
  {
   "cell_type": "code",
   "execution_count": 12,
   "metadata": {},
   "outputs": [
    {
     "data": {
      "text/plain": [
       "array([1.22747161, 1.32505402, 6.61283278])"
      ]
     },
     "execution_count": 12,
     "metadata": {},
     "output_type": "execute_result"
    }
   ],
   "source": [
    "quans_snrs = np.quantile(snrs, [0.05, 0.5, 0.95])\n",
    "quans_snrs"
   ]
  },
  {
   "cell_type": "code",
   "execution_count": 13,
   "metadata": {},
   "outputs": [
    {
     "data": {
      "text/plain": [
       "1.6105177002421351"
      ]
     },
     "execution_count": 13,
     "metadata": {},
     "output_type": "execute_result"
    }
   ],
   "source": [
    "np.std(snrs[(snrs > quans_snrs[0]) & (snrs < quans_snrs[2])])"
   ]
  },
  {
   "cell_type": "code",
   "execution_count": 14,
   "metadata": {},
   "outputs": [
    {
     "data": {
      "text/plain": [
       "array([-131.67780404,  -11.31679582,   -3.39797878])"
      ]
     },
     "execution_count": 14,
     "metadata": {},
     "output_type": "execute_result"
    }
   ],
   "source": [
    "quans_conts_low = np.quantile(conts_low, [0.05, 0.5, 0.95])\n",
    "quans_conts_low"
   ]
  },
  {
   "cell_type": "code",
   "execution_count": 15,
   "metadata": {},
   "outputs": [
    {
     "data": {
      "text/plain": [
       "20.297670766821227"
      ]
     },
     "execution_count": 15,
     "metadata": {},
     "output_type": "execute_result"
    }
   ],
   "source": [
    "np.std(conts_low[(conts_low > quans_conts_low[0]) & (conts_low < quans_conts_low[2])])"
   ]
  },
  {
   "cell_type": "code",
   "execution_count": 16,
   "metadata": {},
   "outputs": [
    {
     "data": {
      "text/plain": [
       "array([  4.01752359,  12.15580888, 139.45850808])"
      ]
     },
     "execution_count": 16,
     "metadata": {},
     "output_type": "execute_result"
    }
   ],
   "source": [
    "quans_conts_high = np.quantile(conts_high, [0.05, 0.5, 0.95])\n",
    "quans_conts_high"
   ]
  },
  {
   "cell_type": "code",
   "execution_count": 17,
   "metadata": {},
   "outputs": [
    {
     "data": {
      "text/plain": [
       "22.183463187110977"
      ]
     },
     "execution_count": 17,
     "metadata": {},
     "output_type": "execute_result"
    }
   ],
   "source": [
    "np.std(conts_high[(conts_high > quans_conts_high[0]) & (conts_high < quans_conts_high[2])])"
   ]
  },
  {
   "cell_type": "code",
   "execution_count": 18,
   "metadata": {},
   "outputs": [
    {
     "data": {
      "text/plain": [
       "array([5876.38046716, 5876.9973956 , 5896.43221872])"
      ]
     },
     "execution_count": 18,
     "metadata": {},
     "output_type": "execute_result"
    }
   ],
   "source": [
    "quans_wls = np.quantile(wls, [0.05, 0.5, 0.95])\n",
    "quans_wls"
   ]
  },
  {
   "cell_type": "code",
   "execution_count": 19,
   "metadata": {},
   "outputs": [
    {
     "data": {
      "text/plain": [
       "6.604516498984939"
      ]
     },
     "execution_count": 19,
     "metadata": {},
     "output_type": "execute_result"
    }
   ],
   "source": [
    "np.std(wls[(wls > quans_wls[0]) & (wls < quans_wls[2])])"
   ]
  }
 ],
 "metadata": {
  "kernelspec": {
   "display_name": "Python 3",
   "language": "python",
   "name": "python3"
  },
  "language_info": {
   "codemirror_mode": {
    "name": "ipython",
    "version": 3
   },
   "file_extension": ".py",
   "mimetype": "text/x-python",
   "name": "python",
   "nbconvert_exporter": "python",
   "pygments_lexer": "ipython3",
   "version": "3.6.8"
  }
 },
 "nbformat": 4,
 "nbformat_minor": 2
}
